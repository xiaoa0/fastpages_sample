{
 "cells": [
  {
   "cell_type": "markdown",
   "metadata": {},
   "source": [
    "# ArrayList\n",
    "\n",
    "- comments: true\n",
    "- category: [jupyter]"
   ]
  },
  {
   "cell_type": "code",
   "execution_count": 8,
   "metadata": {
    "vscode": {
     "languageId": "java"
    }
   },
   "outputs": [
    {
     "name": "stdout",
     "output_type": "stream",
     "text": [
      "Original: [addition, subtraction, multiplication, division, square root, exponent, logarithm]\n",
      "Basics: [addition, subtraction, multiplication, division]\n",
      "Remove last element: [addition, subtraction, multiplication]\n",
      "Cleared: []\n"
     ]
    }
   ],
   "source": [
    "import java.util.ArrayList;\n",
    "\n",
    "ArrayList<String> math = new ArrayList<String>();\n",
    "\n",
    "List<String> basic = new ArrayList<String>();\n",
    "List<String> advanced = new ArrayList<String>();\n",
    "\n",
    "basic.add(\"addition\");\n",
    "basic.add(\"subtraction\");\n",
    "basic.add(\"multiplication\");\n",
    "basic.add(\"division\");\n",
    "\n",
    "advanced.add(\"square root\"); \n",
    "advanced.add(\"exponent\");\n",
    "advanced.add(\"logarithm\");\n",
    "\n",
    "math.addAll(basic);\n",
    "math.addAll(advanced); // add objects and clothes arrays to listings\n",
    "\n",
    "System.out.println(\"Original: \" + math); // listings has content from both clothes and objects\n",
    "\n",
    "math.removeAll(advanced);\n",
    "System.out.println(\"Basics: \" + math);\n",
    "\n",
    "math.remove(3);\n",
    "System.out.println(\"Remove last element: \" + math);\n",
    "\n",
    "math.clear();\n",
    "System.out.println(\"Cleared: \" + math);\n",
    "\n"
   ]
  }
 ],
 "metadata": {
  "kernelspec": {
   "display_name": "Java",
   "language": "java",
   "name": "java"
  },
  "language_info": {
   "codemirror_mode": "java",
   "file_extension": ".jshell",
   "mimetype": "text/x-java-source",
   "name": "Java",
   "pygments_lexer": "java",
   "version": "17.0.3+7"
  },
  "orig_nbformat": 4
 },
 "nbformat": 4,
 "nbformat_minor": 2
}
