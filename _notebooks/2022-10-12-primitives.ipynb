{
 "cells": [
  {
   "cell_type": "markdown",
   "metadata": {},
   "source": [
    "# Primitives \n",
    "\n",
    "- category: [collegeboard]"
   ]
  },
  {
   "cell_type": "markdown",
   "metadata": {},
   "source": [
    "- Predefined, lowercase, can't call methods, value, different sizes\n",
    "- Non-primitives?\n",
    "- Boolean, int, double (required by CB)"
   ]
  },
  {
   "cell_type": "markdown",
   "metadata": {},
   "source": [
    "### Naming conventions\n",
    "Lowercase, then 2nd word is capitalized\n",
    "Final key word will make it so you will not change a value later\n",
    "Casting: manual vs automatic\n",
    "Change value from one type to another, can narrow or widen\n",
    "Need to declare narrowing bc of overflow error"
   ]
  },
  {
   "cell_type": "markdown",
   "metadata": {},
   "source": [
    "### Operators\n",
    "+, -, /, %, *, "
   ]
  },
  {
   "cell_type": "markdown",
   "metadata": {},
   "source": [
    "### User input\n",
    "Import java.util.Scanner\n",
    "Use Scanner scan=new Scanner(System.in);\n",
    "Scanner = new data type\n"
   ]
  },
  {
   "cell_type": "markdown",
   "metadata": {},
   "source": [
    "## Homework"
   ]
  },
  {
   "cell_type": "markdown",
   "metadata": {},
   "source": [
    "2a. Multiplying the tax rate + 1 gives the actual multiplier we want to use for the new price, since it includes the tax and existing price."
   ]
  },
  {
   "cell_type": "code",
   "execution_count": 2,
   "metadata": {},
   "outputs": [],
   "source": [
    "public interface Item\n",
    "   {\n",
    "      double purchasePrice();\n",
    "   }\n",
    "public abstract class TaxableItem implements Item\n",
    "{\n",
    "   private double taxRate;\n",
    "   public abstract double getListPrice();\n",
    "   public TaxableItem(double rate)\n",
    "   { taxRate = rate; }\n",
    "\n",
    "   // returns the price of the item including the tax\n",
    "   public double purchasePrice()\n",
    "   { return (1 + taxRate) * getListPrice();}\n",
    "}"
   ]
  },
  {
   "cell_type": "markdown",
   "metadata": {},
   "source": [
    "3a. Returning nameCompare if it's not 0, subtracting IDs otherwise"
   ]
  },
  {
   "cell_type": "code",
   "execution_count": null,
   "metadata": {},
   "outputs": [],
   "source": [
    "public class Customer\n",
    "{\n",
    "   // constructs a Customer with given name and ID number\n",
    "   public Customer(String name, int idNum)\n",
    "   { /* implementation not shown */ }\n",
    "   // returns the customer's name\n",
    "   public String getName()\n",
    "   { /* implementation not shown */ }\n",
    "   // returns the customer's id\n",
    "   public int getID()\n",
    "   { /* implementation not shown */ }\n",
    "   // returns 0 when this customer is equal to other;\n",
    "   // a positive integer when this customer is greater than other;\n",
    "   // a negative integer when this customer is less than other\n",
    "   public int compareCustomer(Customer other)\n",
    "   { \n",
    "      int nameCompare = getName().compareTo(other.getName());\n",
    "      if (nameCompare != 0) {\n",
    "         return nameCompare;\n",
    "      }\n",
    "      else {\n",
    "         return getID() - other.getID();\n",
    "      }\n",
    "    }\n",
    "   // There may be fields, constructors, and methods that are not shown.\n",
    "}"
   ]
  }
 ],
 "metadata": {
  "kernelspec": {
   "display_name": "Java",
   "language": "java",
   "name": "java"
  },
  "language_info": {
   "codemirror_mode": "java",
   "file_extension": ".jshell",
   "mimetype": "text/x-java-source",
   "name": "java",
   "pygments_lexer": "java",
   "version": "17.0.3+7"
  },
  "orig_nbformat": 4
 },
 "nbformat": 4,
 "nbformat_minor": 2
}
