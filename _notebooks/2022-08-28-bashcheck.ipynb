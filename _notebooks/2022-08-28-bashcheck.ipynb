{
 "cells": [
  {
   "cell_type": "markdown",
   "metadata": {},
   "source": [
    "# Bash prereqs\n",
    "> Using Bash to check machine software\n",
    "\n",
    "- badges: true\n",
    "- comments: true\n",
    "- categories: [jupyter]"
   ]
  },
  {
   "cell_type": "code",
   "execution_count": null,
   "metadata": {
    "vscode": {
     "languageId": "shellscript"
    }
   },
   "outputs": [
    {
     "ename": "CompilationException",
     "evalue": "",
     "output_type": "error",
     "traceback": [
      "\u001b[1m\u001b[30m|   \u001b[1m\u001b[30mjupyter kernelspec\u001b[0m\u001b[1m\u001b[30m\u001b[41m\u001b[0m\u001b[1m\u001b[30m list\u001b[0m",
      "\u001b[1m\u001b[31m';' expected\u001b[0m",
      ""
     ]
    }
   ],
   "source": [
    "jupyter kernelspec list\n",
    "\n",
    "java --version\n",
    "\n",
    "javac --version\n",
    "\n",
    "conda --version\n",
    "\n",
    "conda list\n",
    "\n",
    "conda list | grep jupyter"
   ]
  }
 ],
 "metadata": {
  "kernelspec": {
   "display_name": "Bash",
   "language": "bash",
   "name": "bash"
  },
  "language_info": {
   "codemirror_mode": "java",
   "file_extension": ".jshell",
   "mimetype": "text/x-java-source",
   "name": "bash",
   "pygments_lexer": "java",
   "version": "3.9.12"
  },
  "orig_nbformat": 4,
  "vscode": {
   "interpreter": {
    "hash": "e1b22086da3489a6f64cb09eb9ffeccd0a3f852d004e2fa9dd503acce1b728ea"
   }
  }
 },
 "nbformat": 4,
 "nbformat_minor": 2
}
