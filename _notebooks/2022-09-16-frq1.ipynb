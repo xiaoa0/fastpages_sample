{
 "cells": [
  {
   "cell_type": "markdown",
   "metadata": {},
   "source": [
    "# FRQ 1\n",
    "> Practicing the FRQ format with 2019 Question 1\n",
    "\n",
    "- toc: true\n",
    "- comments: true\n",
    "- category: [CollegeBoard]"
   ]
  },
  {
   "cell_type": "markdown",
   "metadata": {},
   "source": [
    "### 1a: numberofLeapYears\n",
    "\n",
    "This method is made to count the number of leap years in a given range. To do this I used a Counter variable to iterate through each value in the range and the provided isLeapYear() for an if loop."
   ]
  },
  {
   "cell_type": "code",
   "execution_count": null,
   "metadata": {},
   "outputs": [],
   "source": [
    "public static int numberOfLeapYears(int year1, int year2) {\n",
    "   int counter = int year1;\n",
    "   for (int a = year1; a <= year2; a++) { // taking a as a parameter, setting boundaries as between year1 and year2\n",
    "      if (isLeapYear(a)) { // checking if year value is leapyear\n",
    "         count++; // adding 1 to counter if true\n",
    "         }\n",
    "      }\n",
    "   return count; // returning final count after \n",
    "   }"
   ]
  },
  {
   "cell_type": "markdown",
   "metadata": {},
   "source": [
    "### 1b: dayOfWeek\n",
    "\n",
    "This method is meant to output a number representing the day of the week a certain date falls on, which involves creating integers to track day 1 of the year, adding the # of days since then to it, and dividing by 7 to return the result."
   ]
  },
  {
   "cell_type": "code",
   "execution_count": null,
   "metadata": {},
   "outputs": [],
   "source": [
    "public static int dayOfWeek(int month, int day, int year) {\n",
    "   int startingDay = firstDayOfYear(year); // setting starting date\n",
    "   int xDay = dayOfYear(month, day, year); // adding days passed as integer\n",
    "   int endingDay = (startDay + nthDay - 1) % 7; // dividing by 7 to get day of the week\n",
    "   return endingDay;\n",
    "}"
   ]
  }
 ],
 "metadata": {
  "kernelspec": {
   "display_name": "Java",
   "language": "java",
   "name": "java"
  },
  "language_info": {
   "name": "java"
  },
  "orig_nbformat": 4
 },
 "nbformat": 4,
 "nbformat_minor": 2
}
