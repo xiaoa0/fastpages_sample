{
 "cells": [
  {
   "cell_type": "markdown",
   "metadata": {},
   "source": [
    "# Week 1 Hacks\n",
    "> Primitives\n",
    "\n",
    "- comments: true\n",
    "- badges: true\n",
    "- categories: [CollegeBoard]"
   ]
  },
  {
   "cell_type": "markdown",
   "metadata": {},
   "source": [
    "- Terminal for testing and runtime\n",
    "- Run button > JavaC > Bytecode > Java runs\n",
    "- Lots of data types\n",
    "- Primitives (booleans, characters) are fixed (defined by the language)\n",
    "- Non-primitives (wrapper classes) store functions (methods) and objects\n",
    "- Examples: wrappers are uppercase, primitives are lowercase"
   ]
  },
  {
   "cell_type": "code",
   "execution_count": 4,
   "metadata": {
    "vscode": {
     "languageId": "java"
    }
   },
   "outputs": [
    {
     "name": "stdout",
     "output_type": "stream",
     "text": [
      "anInt: 100\n",
      "aDouble: 89.9\n",
      "aBoolean: true\n",
      "aString: Hello, World!\n",
      "aStringFormal: Greetings, World!\n"
     ]
    }
   ],
   "source": [
    "public class DefinePrimitives {\n",
    "  public static void main(String[] args) {\n",
    "    int anInt = 100;\n",
    "    double aDouble = 89.9;\n",
    "    boolean aBoolean = true;\n",
    "\n",
    "    // not primitives but essential\n",
    "    String aString = \"Hello, World!\";   // wrapper class shortcut assignment\n",
    "    String aStringFormal = new String(\"Greetings, World!\");\n",
    "\n",
    "    System.out.println(\"anInt: \" + anInt);\n",
    "    System.out.println(\"aDouble: \" + aDouble);\n",
    "    System.out.println(\"aBoolean: \" + aBoolean);\n",
    "    System.out.println(\"aString: \" + aString);\n",
    "    System.out.println(\"aStringFormal: \" + aStringFormal);\n",
    "  }\n",
    "}\n",
    "DefinePrimitives.main(null)"
   ]
  },
  {
   "cell_type": "code",
   "execution_count": null,
   "metadata": {
    "vscode": {
     "languageId": "java"
    }
   },
   "outputs": [],
   "source": [
    "// java style to import library\n",
    "import java.util.Scanner;\n",
    "\n",
    "// class must alway have 1st letter as uppercase, CamelCase is Java Class convention\n",
    "public class ScanPrimitives {\n",
    "    public static void main(String[] args) {    \n",
    "        Scanner input;\n",
    "\n",
    "        // primitive int\n",
    "        input = new Scanner(System.in);\n",
    "        System.out.print(\"Enter an integer: \");\n",
    "        try {\n",
    "            int sampleInputInt = input.nextInt();\n",
    "            System.out.println(sampleInputInt);\n",
    "        } catch (Exception e) {  // if not an integer\n",
    "            System.out.println(\"Not an integer (form like 159), \" + e);\n",
    "        }\n",
    "        input.close();\n",
    "\n",
    "        // primitive double\n",
    "        input = new Scanner(System.in);\n",
    "        System.out.print(\"Enter a double: \");\n",
    "        try {\n",
    "            double sampleInputDouble = input.nextDouble();\n",
    "            System.out.println(sampleInputDouble);\n",
    "        } catch (Exception e) {  // if not a number\n",
    "            System.out.println(\"Not an double (form like 9.99), \" + e);\n",
    "        }\n",
    "        input.close();\n",
    "\n",
    "        // primitive boolean\n",
    "        input =  new Scanner(System.in);\n",
    "        System.out.print(\"Enter a boolean: \");\n",
    "        try {\n",
    "            boolean sampleInputBoolean = input.nextBoolean();\n",
    "            System.out.println(sampleInputBoolean);\n",
    "        } catch (Exception e) {  // if not true or false\n",
    "            System.out.println(\"Not an boolean (true or false), \" + e);\n",
    "        }\n",
    "        input.close();\n",
    "\n",
    "        // wrapper class String\n",
    "        input =  new Scanner(System.in);\n",
    "        System.out.print(\"Enter a String: \");\n",
    "        try {\n",
    "            String sampleInputString = input.nextLine();\n",
    "            System.out.println(sampleInputString);\n",
    "        } catch (Exception e) { // this may never happen\n",
    "            System.out.println(\"Not an String, \" + e);\n",
    "        }\n",
    "        input.close();\n",
    "    }\n",
    "}\n",
    "ScanPrimitives.main(null);"
   ]
  },
  {
   "cell_type": "markdown",
   "metadata": {},
   "source": [
    "## "
   ]
  },
  {
   "cell_type": "code",
   "execution_count": 6,
   "metadata": {
    "vscode": {
     "languageId": "java"
    }
   },
   "outputs": [],
   "source": [
    "// Java program for simple calculator\n",
    "\n",
    "import java.lang.Math;\n",
    "import java.util.Scanner;\n",
    "public class BasicCalculator {\n",
    "\n",
    "\tpublic static void main(String[] args)\n",
    "\t{\n",
    "\t\t// taking two numbers\n",
    "\t\tdouble num1, num2;\n",
    "\n",
    "\t\t// user input\n",
    "\t\tScanner sc = new Scanner(System.in);\n",
    "\n",
    "\t\tSystem.out.println(\"Enter the numbers\");\n",
    "\n",
    "\t\t// take the inputs\n",
    "\t\tnum1 = sc.nextDouble();\n",
    "\n",
    "\t\tnum2 = sc.nextDouble();\n",
    "\n",
    "\t\tSystem.out.println(\"Enter the operator (+,-,*,/)\");\n",
    "\n",
    "\t\tchar op = sc.next().charAt(0);\n",
    "\n",
    "\t\tdouble o = 0;\n",
    "\n",
    "\t\tswitch (op) {\n",
    "\n",
    "\t\t// case to add two numbers\n",
    "\t\tcase '+':\n",
    "\n",
    "\t\t\to = num1 + num2;\n",
    "\n",
    "\t\t\tbreak;\n",
    "\n",
    "\t\t// case to subtract two numbers\n",
    "\t\tcase '-':\n",
    "\n",
    "\t\t\to = num1 - num2;\n",
    "\n",
    "\t\t\tbreak;\n",
    "\n",
    "\t\t// case to multiply two numbers\n",
    "\t\tcase '*':\n",
    "\n",
    "\t\t\to = num1 * num2;\n",
    "\n",
    "\t\t\tbreak;\n",
    "\n",
    "\t\t// case to divide two numbers\n",
    "\t\tcase '/':\n",
    "\n",
    "\t\t\to = num1 / num2;\n",
    "\n",
    "\t\t\tbreak;\n",
    "\n",
    "\t\tdefault:\n",
    "\n",
    "\t\t\tSystem.out.println(\"You enter wrong input\");\n",
    "\n",
    "\t\t\tbreak;\n",
    "\t\t}\n",
    "\n",
    "\t\tSystem.out.println(\"The final result:\");\n",
    "\n",
    "\t\tSystem.out.println();\n",
    "\n",
    "\t\t// print the final result\n",
    "\t\tSystem.out.println(num1 + \" \" + op + \" \" + num2\n",
    "\t\t\t\t\t\t+ \" = \" + o);\n",
    "\t}\n",
    "}\n"
   ]
  }
 ],
 "metadata": {
  "kernelspec": {
   "display_name": "Java",
   "language": "java",
   "name": "java"
  },
  "language_info": {
   "codemirror_mode": "java",
   "file_extension": ".jshell",
   "mimetype": "text/x-java-source",
   "name": "Java",
   "pygments_lexer": "java",
   "version": "17.0.3+7"
  },
  "orig_nbformat": 4,
  "vscode": {
   "interpreter": {
    "hash": "cca942544a13735e0b500f1ac16a217b44980d9f203f77f6d4313b106e747e9e"
   }
  }
 },
 "nbformat": 4,
 "nbformat_minor": 2
}
