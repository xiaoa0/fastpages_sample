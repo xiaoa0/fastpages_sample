{
 "cells": [
  {
   "cell_type": "markdown",
   "metadata": {},
   "source": [
    "# Code.org learnings\n",
    "\n",
    "- comments: true\n",
    "- category: [jupyter]"
   ]
  },
  {
   "cell_type": "markdown",
   "metadata": {},
   "source": [
    "- Java is case-sensitive\n",
    "- Create an object (instance of a class) with 'ClassName newObject = new ClassName();' format\n",
    "- Can invoke methods on objects with 'objectName.methodName();' format\n",
    "- Methods are like functions/algorithms, you can store them in separate files and then call them in main file\n",
    "- When doing so remember to extend class "
   ]
  },
  {
   "cell_type": "code",
   "execution_count": null,
   "metadata": {
    "vscode": {
     "languageId": "java"
    }
   },
   "outputs": [],
   "source": [
    "import org.code.neighborhood.Painter;\n",
    "\n",
    "public class MyNeighborhood {\n",
    "  public static void main(String[] args) {\n",
    "   // constructing an instance\n",
    "    Painter myPainter = new Painter();\n",
    "\n",
    "    myPainter.move();\n",
    "    myPainter.takePaint();\n",
    "\n",
    "    myPainter.turnLeft();\n",
    "    myPainter.turnLeft();\n",
    "    myPainter.turnLeft();\n",
    "\n",
    "    myPainter.move();\n",
    "    \n",
    "  }\n",
    "}"
   ]
  },
  {
   "cell_type": "code",
   "execution_count": null,
   "metadata": {
    "vscode": {
     "languageId": "java"
    }
   },
   "outputs": [],
   "source": [
    "import org.code.neighborhood.Painter;\n",
    "// separate methods in PainterPlus file\n",
    "public class PainterPlus extends Painter {\n",
    "  public PainterPlus() {\n",
    "    super();\n",
    "  }\n",
    "  public void turnRight() {\n",
    "    turnLeft();\n",
    "    turnLeft();\n",
    "    turnLeft();\n",
    "  }\n",
    "\n",
    "  public void takeAllPaint() {\n",
    "    if (myPainterPlus.isOnBucket()) {\n",
    "      while (myPainterplus.isOnBucket()) {\n",
    "        takePaint();\n",
    "      }\n",
    "    }\n",
    "  }\n",
    "public void paintLine(String color) {\n",
    "  while (myPainterPlus.canMoveForward()) {\n",
    "   paintColor();\n",
    "   myPainterPlus.moveForward();\n",
    "  }\n",
    "}\n",
    "\n",
    "\n",
    "}"
   ]
  }
 ],
 "metadata": {
  "kernelspec": {
   "display_name": "Java",
   "language": "java",
   "name": "java"
  },
  "language_info": {
   "codemirror_mode": "java",
   "file_extension": ".jshell",
   "mimetype": "text/x-java-source",
   "name": "Java",
   "pygments_lexer": "java",
   "version": "17.0.3+7"
  },
  "orig_nbformat": 4,
  "vscode": {
   "interpreter": {
    "hash": "cca942544a13735e0b500f1ac16a217b44980d9f203f77f6d4313b106e747e9e"
   }
  }
 },
 "nbformat": 4,
 "nbformat_minor": 2
}
