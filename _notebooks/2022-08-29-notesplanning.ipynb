{
 "cells": [
  {
   "cell_type": "markdown",
   "metadata": {},
   "source": [
    "# Organizing notes by subject\n",
    "> Tagging system\n",
    "\n",
    "- badges: true\n",
    "- comments: true\n",
    "- categories: [jupyter]"
   ]
  },
  {
   "cell_type": "markdown",
   "metadata": {},
   "source": [
    "I will collect all of my College Board notes in a table in an index-style [markdown page](https://xiaoa0.github.io/fastpages_test/cb/). In addition, I will tag my notes with \"PBL\" or \"College Board\" along with jupyter so that I can easily filter them from the homepage."
   ]
  }
 ],
 "metadata": {
  "kernelspec": {
   "display_name": "Python 3.9.12 ('base')",
   "language": "python",
   "name": "python3"
  },
  "language_info": {
   "name": "python",
   "version": "3.9.12"
  },
  "orig_nbformat": 4,
  "vscode": {
   "interpreter": {
    "hash": "e1b22086da3489a6f64cb09eb9ffeccd0a3f852d004e2fa9dd503acce1b728ea"
   }
  }
 },
 "nbformat": 4,
 "nbformat_minor": 2
}
